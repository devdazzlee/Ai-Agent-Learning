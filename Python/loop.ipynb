{
 "cells": [
  {
   "cell_type": "code",
   "execution_count": 1,
   "metadata": {},
   "outputs": [
    {
     "name": "stdout",
     "output_type": "stream",
     "text": [
      "red\n",
      "green\n",
      "blue\n",
      "purple\n"
     ]
    }
   ],
   "source": [
    "colors = [\"red\", \"green\", \"blue\", \"purple\"]\n",
    "for color in colors:\n",
    "    print(color)"
   ]
  },
  {
   "cell_type": "code",
   "execution_count": 14,
   "metadata": {},
   "outputs": [
    {
     "name": "stdout",
     "output_type": "stream",
     "text": [
      "John 34 Bachelors USA\n",
      "Sara 23 Masters UK\n",
      "Sara 23 Masters UK\n",
      "Mike 29 PhD Germany\n",
      "Anna 31 Bachelors France\n",
      "Anna 31 Bachelors France\n"
     ]
    }
   ],
   "source": [
    "users  = [\n",
    "    {\"name\" : \"John\",\"age\" : 34 , \"education\" : \"Bachelors\" , \"country\"  :\"USA\"},\n",
    "    {\"name\" : \"Sara\", \"age\" : 23 , \"education\" : \"Masters\" , \"country\"  :\"UK\"},\n",
    "    {\"name\" : \"Mike\", \"age\" : 29 , \"education\" : \"PhD\" , \"country\"  :\"Germany\"},\n",
    "    {\"name\" : \"Anna\", \"age\" : 31 , \"education\" : \"Bachelors\" , \"country\"  :\"France\"},\n",
    "    {\"name\" : \"Ali\", \"age\" : 27 , \"education\" : \"Masters\" , \"country\"  :\"Turkey\"},\n",
    "    {\"name\" : \"Sara\", \"age\" : 26 , \"education\" : \"PhD\" , \"country\"  :\"Italy\"},\n",
    "    {\"name\" : \"John\", \"age\" : 34 , \"education\" : \"Bachelors\" , \"country\"  :\"USA\"},\n",
    "    {\"name\" : \"Sara\", \"age\" : 23 , \"education\" : \"Masters\" , \"country\"  :\"UK\"},\n",
    "    {\"name\" : \"Mike\", \"age\" : 29 , \"education\" : \"PhD\" , \"country\"  :\"Germany\"},\n",
    "    {\"name\" : \"Anna\", \"age\" : 31 , \"education\" : \"Bachelors\" , \"country\"  :\"France\"},\n",
    "    {\"name\" : \"Ali\", \"age\" : 27 , \"education\" : \"Masters\" , \"country\"  :\"Turkey\"},\n",
    "]\n",
    "\n",
    "\n",
    "for user in users:\n",
    "    name = user[\"name\"]\n",
    "    age = user[\"age\"]\n",
    "    education = user[\"education\"] \n",
    "    country  = user[\"country\"]\n",
    "    print(name, age, education, country)\n",
    "    if(name == \"Sara\" and education == \"Masters\"):\n",
    "        print(name, age, education, country)\n",
    "        continue\n",
    "    if(name == \"Anna\" and education == \"Bachelors\"):\n",
    "        print(name, age, education, country)\n",
    "        break"
   ]
  },
  {
   "cell_type": "code",
   "execution_count": null,
   "metadata": {},
   "outputs": [],
   "source": [
    "# while Loop\n",
    "\n",
    "number = 0\n",
    "while number < 10:\n",
    "    print(number)\n",
    "    number += 1"
   ]
  },
  {
   "cell_type": "code",
   "execution_count": 15,
   "metadata": {},
   "outputs": [
    {
     "name": "stdout",
     "output_type": "stream",
     "text": [
      "[0, 1, 4, 9, 16, 25, 36, 49, 64, 81, 100, 121]\n"
     ]
    }
   ],
   "source": [
    "# List Comprehensions\n",
    "squares = [y**2 for y in range(12) ]\n",
    "print(squares)"
   ]
  }
 ],
 "metadata": {
  "kernelspec": {
   "display_name": "base",
   "language": "python",
   "name": "python3"
  },
  "language_info": {
   "codemirror_mode": {
    "name": "ipython",
    "version": 3
   },
   "file_extension": ".py",
   "mimetype": "text/x-python",
   "name": "python",
   "nbconvert_exporter": "python",
   "pygments_lexer": "ipython3",
   "version": "3.12.7"
  }
 },
 "nbformat": 4,
 "nbformat_minor": 2
}
