{
 "cells": [
  {
   "cell_type": "code",
   "execution_count": null,
   "metadata": {},
   "outputs": [
    {
     "name": "stdout",
     "output_type": "stream",
     "text": [
      "Deposited amount 120 new balance 1320\n",
      "Invalid withdrawal amount!\n",
      "Your Current Balance 1320\n"
     ]
    }
   ],
   "source": [
    "class BankAccount:\n",
    "    def __init__(self,balance):\n",
    "        self.__balance = balance\n",
    "    \n",
    "    def deposit(self,amount):\n",
    "        if amount > 0:\n",
    "            self.__balance += amount\n",
    "            print(f\"Deposited amount {amount} new balance {self.__balance}\")\n",
    "        else:\n",
    "            print(\"Invalid deposit amount!\")\n",
    "            \n",
    "    def withdraw(self,amount):\n",
    "        if (0 < amount) and (amount <= self.__balance):\n",
    "            self.__balance -= amount\n",
    "            print(f\"withdraw amount {amount} new balance {self.__balance}\")\n",
    "        else:\n",
    "            print(\"Invalid withdrawal amount!\")\n",
    "            \n",
    "    def get_balance(self):\n",
    "        print(f\"Your Current Balance {self.__balance}\")\n",
    "        \n",
    "account = BankAccount(1200)\n",
    "account.deposit(120)\n",
    "account.withdraw(800000)\n",
    "account.get_balance()\n"
   ]
  }
 ],
 "metadata": {
  "kernelspec": {
   "display_name": "base",
   "language": "python",
   "name": "python3"
  },
  "language_info": {
   "codemirror_mode": {
    "name": "ipython",
    "version": 3
   },
   "file_extension": ".py",
   "mimetype": "text/x-python",
   "name": "python",
   "nbconvert_exporter": "python",
   "pygments_lexer": "ipython3",
   "version": "3.12.7"
  }
 },
 "nbformat": 4,
 "nbformat_minor": 2
}
