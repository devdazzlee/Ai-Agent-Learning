{
 "cells": [
  {
   "cell_type": "code",
   "execution_count": 3,
   "metadata": {},
   "outputs": [
    {
     "name": "stdout",
     "output_type": "stream",
     "text": [
      "Please enter a valid number\n"
     ]
    }
   ],
   "source": [
    "user_input = input(\"Enter Your Age  ??\")\n",
    "try:\n",
    "    age = int(user_input)\n",
    "    if(age > 18):\n",
    "        print(\"You are an adult\")\n",
    "    else:\n",
    "        print(\"You are not an adult\")\n",
    "except ValueError:\n",
    "    print(\"Please enter a valid number\")\n",
    "    "
   ]
  },
  {
   "cell_type": "code",
   "execution_count": 7,
   "metadata": {},
   "outputs": [
    {
     "name": "stdout",
     "output_type": "stream",
     "text": [
      "You are not a family member\n"
     ]
    }
   ],
   "source": [
    "family_checker = input(\"Enter Your Name  ??\")\n",
    "family_list = [\"ahmed \" , \"saad\" , \"hassan\" , \"saima\" , \"nadeem\"]\n",
    "try:\n",
    "    family_checker = family_checker.lower()\n",
    "    if family_checker in family_list:\n",
    "        print(\"You are a family member\")\n",
    "    else:\n",
    "        print(\"You are not a family member\")\n",
    "except ValueError:\n",
    "    print(\"Please enter a valid number\")"
   ]
  }
 ],
 "metadata": {
  "kernelspec": {
   "display_name": "base",
   "language": "python",
   "name": "python3"
  },
  "language_info": {
   "codemirror_mode": {
    "name": "ipython",
    "version": 3
   },
   "file_extension": ".py",
   "mimetype": "text/x-python",
   "name": "python",
   "nbconvert_exporter": "python",
   "pygments_lexer": "ipython3",
   "version": "3.12.7"
  }
 },
 "nbformat": 4,
 "nbformat_minor": 2
}
