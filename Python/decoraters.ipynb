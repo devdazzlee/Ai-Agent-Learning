{
 "cells": [
  {
   "cell_type": "code",
   "execution_count": 7,
   "metadata": {},
   "outputs": [
    {
     "name": "stdout",
     "output_type": "stream",
     "text": [
      "Befor Decorator\n",
      "4\n",
      "After Decorater\n"
     ]
    },
    {
     "data": {
      "text/plain": [
       "4"
      ]
     },
     "execution_count": 7,
     "metadata": {},
     "output_type": "execute_result"
    }
   ],
   "source": [
    "def sum (first,second):\n",
    "    return first + second\n",
    "\n",
    "def decorator(func):\n",
    "    def wrapper(*args,**kwargs):\n",
    "        print(\"Befor Decorator\")\n",
    "        result =  func(*args , **kwargs)\n",
    "        print(result)\n",
    "        print(\"After Decorater\")\n",
    "        return result \n",
    "    return wrapper\n",
    "\n",
    "@decorator\n",
    "\n",
    "def sum_value ():\n",
    "    return sum(1,3)\n",
    "\n",
    "sum_value()"
   ]
  },
  {
   "cell_type": "code",
   "execution_count": 8,
   "metadata": {},
   "outputs": [
    {
     "name": "stdout",
     "output_type": "stream",
     "text": [
      "Before calling the function.\n",
      "Hello, World!\n",
      "After calling the function.\n"
     ]
    }
   ],
   "source": [
    "# A simple decorator function\n",
    "def decorator(func):\n",
    "  \n",
    "    def wrapper():\n",
    "        print(\"Before calling the function.\")\n",
    "        func()\n",
    "        print(\"After calling the function.\")\n",
    "    return wrapper\n",
    "\n",
    "# Applying the decorator to a function\n",
    "@decorator\n",
    "\n",
    "def greet():\n",
    "    print(\"Hello, World!\")\n",
    "\n",
    "greet()\n"
   ]
  }
 ],
 "metadata": {
  "kernelspec": {
   "display_name": "base",
   "language": "python",
   "name": "python3"
  },
  "language_info": {
   "codemirror_mode": {
    "name": "ipython",
    "version": 3
   },
   "file_extension": ".py",
   "mimetype": "text/x-python",
   "name": "python",
   "nbconvert_exporter": "python",
   "pygments_lexer": "ipython3",
   "version": "3.12.7"
  }
 },
 "nbformat": 4,
 "nbformat_minor": 2
}
