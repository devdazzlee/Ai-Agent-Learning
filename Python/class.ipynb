{
 "cells": [
  {
   "cell_type": "code",
   "execution_count": 6,
   "metadata": {},
   "outputs": [
    {
     "name": "stdout",
     "output_type": "stream",
     "text": [
      "2025\n",
      "Civic\n",
      "Beep Beep 🚗🚗\n"
     ]
    }
   ],
   "source": [
    "class Car:\n",
    "    def __init__(self,name,model):\n",
    "        self.name  = name\n",
    "        self.model = model\n",
    "    def bep(self):\n",
    "        print(\"Beep Beep 🚗🚗\")\n",
    "\n",
    "new_Car  = Car(\"Civic\" , \"2025\")\n",
    "print(new_Car.model)\n",
    "print(new_Car.name)\n",
    "new_Car.bep()"
   ]
  },
  {
   "cell_type": "code",
   "execution_count": 11,
   "metadata": {},
   "outputs": [
    {
     "name": "stdout",
     "output_type": "stream",
     "text": [
      "Ahmed \n",
      "My name is Ahmed  and my age is 19 and i have 2+ years of experience and my education is Graduation and my goal is to become Billionaire\n"
     ]
    }
   ],
   "source": [
    "class Person:\n",
    "    def __init__(self , name , age, education , experience , goal):\n",
    "        self.name = name\n",
    "        self.age  = age \n",
    "        self.education = education\n",
    "        self.experience = experience\n",
    "        self.goal = goal\n",
    "    def persnolity(self):\n",
    "        print(f\"My name is {self.name} and my age is {self.age} and i have {self.experience} of experience and my education is {self.education} and my goal is to become {self.goal}\")\n",
    "    \n",
    "ahmed  = Person(\"Ahmed \" , 19 , \"Graduation\", \"2+ years\" , \"Billionaire\" )\n",
    "name = ahmed.name\n",
    "age = ahmed.age\n",
    "education = ahmed.education\n",
    "experience = ahmed.experience\n",
    "goal = ahmed.goal\n",
    "print(name)\n",
    "ahmed.persnolity()"
   ]
  }
 ],
 "metadata": {
  "kernelspec": {
   "display_name": "base",
   "language": "python",
   "name": "python3"
  },
  "language_info": {
   "codemirror_mode": {
    "name": "ipython",
    "version": 3
   },
   "file_extension": ".py",
   "mimetype": "text/x-python",
   "name": "python",
   "nbconvert_exporter": "python",
   "pygments_lexer": "ipython3",
   "version": "3.12.7"
  }
 },
 "nbformat": 4,
 "nbformat_minor": 2
}
