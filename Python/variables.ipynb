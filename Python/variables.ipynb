{
 "cells": [
  {
   "cell_type": "code",
   "execution_count": 5,
   "metadata": {},
   "outputs": [
    {
     "name": "stdout",
     "output_type": "stream",
     "text": [
      "Ahmed\n",
      "19\n"
     ]
    }
   ],
   "source": [
    "\n",
    "name = \"Ahmed\"\n",
    "age = 19 \n",
    "Education = \"Intermediate\"  \n",
    "IsEducated = True  \n",
    "print(name)\n",
    "print(age)"
   ]
  },
  {
   "cell_type": "code",
   "execution_count": null,
   "metadata": {},
   "outputs": [
    {
     "name": "stdout",
     "output_type": "stream",
     "text": [
      "Adult\n"
     ]
    }
   ],
   "source": [
    "# Adult Checker \n",
    "def checkAdult(age):\n",
    "    if(age > 18):\n",
    "        print(\"Adult\")\n",
    "    else:\n",
    "        print(\"Not Adult\")\n",
    "checkAdult(123)"
   ]
  },
  {
   "cell_type": "code",
   "execution_count": 19,
   "metadata": {},
   "outputs": [
    {
     "name": "stdout",
     "output_type": "stream",
     "text": [
      "Blue\n"
     ]
    }
   ],
   "source": [
    "import random\n",
    "\n",
    "def randomColor():\n",
    "    colorList = [\"Red\", \"Blue\", \"Green\", \"Yellow\", \"Black\", \"White\"]\n",
    "    randomColor = random.choice(colorList)\n",
    "    print(randomColor)\n",
    "randomColor()"
   ]
  },
  {
   "cell_type": "code",
   "execution_count": 21,
   "metadata": {},
   "outputs": [
    {
     "name": "stdout",
     "output_type": "stream",
     "text": [
      "Ahmed Raza\n",
      "['Saad', 'Hassan', 'Hussain']\n",
      "['Saima', 'Nadeem']\n",
      "['Red', 'Blue', 'Green', 'Yellow', 'Black', 'White']\n"
     ]
    }
   ],
   "source": [
    "Name =  \"Ahmed Raza\"\n",
    "Brother =  [\"Saad\", \"Hassan\", \"Hussain\"]\n",
    "Parents = [\"Saima\", \"Nadeem\"]\n",
    "colorsList = [\"Red\", \"Blue\", \"Green\", \"Yellow\", \"Black\", \"White\"]\n",
    "print(Name)\n",
    "print(Brother)\n",
    "print(Parents)\n",
    "print(colorsList)"
   ]
  },
  {
   "cell_type": "code",
   "execution_count": 25,
   "metadata": {},
   "outputs": [
    {
     "name": "stdout",
     "output_type": "stream",
     "text": [
      "7\n",
      "-1\n"
     ]
    }
   ],
   "source": [
    "a,b,c,d  = 1,2,3,4\n",
    "print(c + d)\n",
    "print(a - b)\n"
   ]
  },
  {
   "cell_type": "code",
   "execution_count": null,
   "metadata": {},
   "outputs": [
    {
     "name": "stdout",
     "output_type": "stream",
     "text": [
      "<class 'int'>\n"
     ]
    }
   ],
   "source": [
    "# string to number \n",
    "a = \"123\"\n",
    "a  = int(a)\n",
    "print(a)"
   ]
  }
 ],
 "metadata": {
  "kernelspec": {
   "display_name": "Python 3",
   "language": "python",
   "name": "python3"
  },
  "language_info": {
   "codemirror_mode": {
    "name": "ipython",
    "version": 3
   },
   "file_extension": ".py",
   "mimetype": "text/x-python",
   "name": "python",
   "nbconvert_exporter": "python",
   "pygments_lexer": "ipython3",
   "version": "3.13.1"
  }
 },
 "nbformat": 4,
 "nbformat_minor": 2
}
