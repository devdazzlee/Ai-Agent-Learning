{
 "cells": [
  {
   "cell_type": "code",
   "execution_count": null,
   "metadata": {},
   "outputs": [
    {
     "name": "stdout",
     "output_type": "stream",
     "text": [
      "{'userId': 1, 'id': 1, 'title': 'sunt aut facere repellat provident occaecati excepturi optio reprehenderit', 'body': 'quia et suscipit\\nsuscipit recusandae consequuntur expedita et cum\\nreprehenderit molestiae ut ut quas totam\\nnostrum rerum est autem sunt rem eveniet architecto'}\n"
     ]
    }
   ],
   "source": [
    "import requests\n",
    "\n",
    "api = \"https://jsonplaceholder.typicode.com/posts/1\"\n",
    "\n",
    "response = requests.get(api)\n",
    "\n",
    "if response.status_code == 200:\n",
    "    print(response.json())\n",
    "else:\n",
    "\n",
    "    print(f\"Error {response.status_code}\")"
   ]
  },
  {
   "cell_type": "code",
   "execution_count": null,
   "metadata": {},
   "outputs": [
    {
     "name": "stdout",
     "output_type": "stream",
     "text": [
      "number should be equal or   less than  10\n"
     ]
    }
   ],
   "source": [
    "user_input = input(\"Enter a number less than 10: \")\n",
    "\n",
    "try:\n",
    "    num =  int(user_input)\n",
    "    if(num < 10):\n",
    "        print(\"Good ❤\")\n",
    "    else:\n",
    "        raise ValueError(\"number should be equal or   less than  10\")\n",
    "except ValueError as e:\n",
    "    print(e)"
   ]
  },
  {
   "cell_type": "code",
   "execution_count": 3,
   "metadata": {},
   "outputs": [
    {
     "name": "stdout",
     "output_type": "stream",
     "text": [
      "You are Adult\n",
      "Age Checking os Completed\n"
     ]
    }
   ],
   "source": [
    "age = input(\"Enter Your Age ???\")\n",
    "\n",
    "try:\n",
    "    age = int(age)\n",
    "    if age < 18:\n",
    "        raise ValueError(\"Age Must be Greater than 18 😊\")\n",
    "    elif age >= 18:\n",
    "        print(\"You are Adult\")\n",
    "except ValueError as e:\n",
    "    print(f\"Error: {e}\")\n",
    "finally:\n",
    "    print(\"Age Checking os Completed\")"
   ]
  }
 ],
 "metadata": {
  "kernelspec": {
   "display_name": "base",
   "language": "python",
   "name": "python3"
  },
  "language_info": {
   "codemirror_mode": {
    "name": "ipython",
    "version": 3
   },
   "file_extension": ".py",
   "mimetype": "text/x-python",
   "name": "python",
   "nbconvert_exporter": "python",
   "pygments_lexer": "ipython3",
   "version": "3.12.7"
  }
 },
 "nbformat": 4,
 "nbformat_minor": 2
}
